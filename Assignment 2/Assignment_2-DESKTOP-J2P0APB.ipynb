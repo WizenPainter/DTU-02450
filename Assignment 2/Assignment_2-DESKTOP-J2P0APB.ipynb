{
 "cells": [
  {
   "cell_type": "markdown",
   "metadata": {},
   "source": [
    "# Assignment 2"
   ]
  },
  {
   "cell_type": "code",
   "execution_count": null,
   "metadata": {},
   "outputs": [],
   "source": [
    "import numpy as np\n",
    "import pandas as pd"
   ]
  }
 ],
 "metadata": {
  "kernelspec": {
   "display_name": "Python 3.10.2 64-bit",
   "language": "python",
   "name": "python3"
  },
  "language_info": {
   "name": "python",
   "version": "3.10.2"
  },
  "orig_nbformat": 4,
  "vscode": {
   "interpreter": {
    "hash": "9959bfa401c4caffb955641b8073b423143544ccdcedf37cb9b7539bcd316359"
   }
  }
 },
 "nbformat": 4,
 "nbformat_minor": 2
}
