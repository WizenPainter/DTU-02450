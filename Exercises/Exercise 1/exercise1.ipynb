{
 "cells": [
  {
   "cell_type": "markdown",
   "metadata": {},
   "source": [
    "# Exercise 1"
   ]
  },
  {
   "cell_type": "code",
   "execution_count": 1,
   "metadata": {},
   "outputs": [],
   "source": [
    "import pandas as pd\n",
    "import numpy as np\n",
    "import pathlib\n",
    "from scipy.io import loadmat"
   ]
  },
  {
   "cell_type": "code",
   "execution_count": 2,
   "metadata": {},
   "outputs": [],
   "source": [
    "p1 = pathlib.PureWindowsPath(r'C:\\Users\\guzma\\OneDrive\\Documents\\TEC\\DTU\\02450\\Exercises\\toolbox\\02450Toolbox_Python\\Data\\iris.csv')\n",
    "p2 = pathlib.PureWindowsPath(r'C:\\Users\\guzma\\OneDrive\\Documents\\TEC\\DTU\\02450\\Exercises\\toolbox\\02450Toolbox_Python\\Data\\iris.xls')\n",
    "p3 = pathlib.PureWindowsPath(r'C:\\Users\\guzma\\OneDrive\\Documents\\TEC\\DTU\\02450\\Exercises\\toolbox\\02450Toolbox_Python\\Data\\iris.mat')\n",
    "df1 = pd.read_csv(p1)\n",
    "df2 = pd.read_excel(p2)\n",
    "df3 = loadmat(p3)"
   ]
  }
 ],
 "metadata": {
  "kernelspec": {
   "display_name": "Python 3.10.2 64-bit",
   "language": "python",
   "name": "python3"
  },
  "language_info": {
   "codemirror_mode": {
    "name": "ipython",
    "version": 3
   },
   "file_extension": ".py",
   "mimetype": "text/x-python",
   "name": "python",
   "nbconvert_exporter": "python",
   "pygments_lexer": "ipython3",
   "version": "3.10.2"
  },
  "orig_nbformat": 4,
  "vscode": {
   "interpreter": {
    "hash": "9959bfa401c4caffb955641b8073b423143544ccdcedf37cb9b7539bcd316359"
   }
  }
 },
 "nbformat": 4,
 "nbformat_minor": 2
}
